{
 "cells": [
  {
   "cell_type": "code",
   "execution_count": 32,
   "metadata": {},
   "outputs": [
    {
     "name": "stdout",
     "output_type": "stream",
     "text": [
      "6.2, 7.2, 5.7, 8.9, 6.7, 6.9, 6.4, 6.8, 7.0, 9.3, 7.5, 5.9, 8.4, 7.8, 8.7, 8.5, 5.4, 7.8, 6.1, 5.2, 8.9, 11.3, 7.5, 7.1, 6.3, 7.1, 5.3, 5.4, 7.4, 7.1, 8.5, 7.9, 6.2, 10.3, 6.7, 7.7, 6.8, 9.8, 8.2, 6.6, 7.6, 6.8, 7.3, 6.3, 8.1, 6.5, 7.6, 10.9, 7.0, 7.3, "
     ]
    },
    {
     "data": {
      "text/plain": [
       "50"
      ]
     },
     "execution_count": 32,
     "metadata": {},
     "output_type": "execute_result"
    }
   ],
   "source": [
    "# dataset = [\n",
    "#     48, 29, 39, 32, 54, 33, 44, 36, 38, 31,\n",
    "#     46, 30, 20, 44, 47, 39, 42, 35, 33, 47,\n",
    "#     31, 35, 34, 42, 41, 42, 43, 35, 32, 35,\n",
    "#     43, 36, 37, 45, 46, 41, 25, 27, 26, 40,\n",
    "#     38, 41, 44, 47, 45, 45, 52, 42, 44, 43\n",
    "# ]\n",
    "\n",
    "dataset = [\n",
    "    1.2, 2.2, 0.7, 3.9, 1.7, 1.9, 1.4, 1.8, 2.0, 4.3,\n",
    "    2.5, 0.9, 3.4, 2.8, 3.7, 3.5, 0.4, 2.8, 1.1, 0.2,\n",
    "    3.9, 6.3, 2.5, 2.1, 1.3, 2.1, 0.3, 0.4, 2.4, 2.1,\n",
    "    3.5, 2.9, 1.2, 5.3, 1.7, 2.7, 1.8, 4.8, 3.2, 1.6,\n",
    "    2.6, 1.8, 2.3, 1.3, 3.1, 1.5, 2.6, 5.9, 2.0, 2.3\n",
    "]\n",
    "\n",
    "for i in range(len(dataset)):\n",
    "    dataset[i] += 5\n",
    "\n",
    "for i in range(len(dataset)):\n",
    "    print(dataset[i], end=\", \")\n",
    "\n",
    "len(dataset)"
   ]
  },
  {
   "cell_type": "code",
   "execution_count": 33,
   "metadata": {},
   "outputs": [],
   "source": [
    "import pandas as pd\n",
    "\n",
    "series = pd.Series(dataset).value_counts().reset_index().sort_values('index').reset_index(drop = True)\n",
    "\n",
    "series.columns = [\"value\", \"frequency\"]\n",
    "\n",
    "series.to_csv('values.csv')"
   ]
  },
  {
   "cell_type": "code",
   "execution_count": 41,
   "metadata": {},
   "outputs": [
    {
     "name": "stdout",
     "output_type": "stream",
     "text": [
      "1 x 5.2 + 1 x 5.3 + 2 x 5.4 + 1 x 5.7 + 1 x 5.9 + 1 x 6.1 + 2 x 6.2 + 2 x 6.3 + 1 x 6.4 + 1 x 6.5 + 1 x 6.6 + 2 x 6.7 + 3 x 6.8 + 1 x 6.9 + 2 x 7.0 + 3 x 7.1 + 1 x 7.2 + 2 x 7.3 + 1 x 7.4 + 2 x 7.5 + 2 x 7.6 + 1 x 7.7 + 2 x 7.8 + 1 x 7.9 + 1 x 8.1 + 1 x 8.2 + 1 x 8.4 + 2 x 8.5 + 1 x 8.7 + 2 x 8.9 + 1 x 9.3 + 1 x 9.8 + 1 x 10.3 + 1 x 10.9 + 1 x 11.3 + "
     ]
    },
    {
     "data": {
      "text/plain": [
       "50"
      ]
     },
     "execution_count": 41,
     "metadata": {},
     "output_type": "execute_result"
    }
   ],
   "source": [
    "value_list = series['value'].tolist()\n",
    "\n",
    "frequency_list = series['frequency'].tolist()\n",
    "\n",
    "for i in range(len(value_list)):\n",
    "    print(str(frequency_list[i]) + \" x \" + str(value_list[i]), end=\" + \")\n",
    "\n",
    "sum(frequency_list)"
   ]
  },
  {
   "cell_type": "code",
   "execution_count": 35,
   "metadata": {},
   "outputs": [
    {
     "data": {
      "text/plain": [
       "7.398"
      ]
     },
     "execution_count": 35,
     "metadata": {},
     "output_type": "execute_result"
    }
   ],
   "source": [
    "import statistics\n",
    "\n",
    "mean = statistics.mean(dataset)\n",
    "mean"
   ]
  },
  {
   "cell_type": "code",
   "execution_count": 40,
   "metadata": {},
   "outputs": [
    {
     "name": "stdout",
     "output_type": "stream",
     "text": [
      "1 x 2.2 + 1 x 2.1 + 2 x 2.0 + 1 x 1.7 + 1 x 1.5 + 1 x 1.3 + 2 x 1.2 + 2 x 1.1 + 1 x 1.0 + 1 x 0.9 + 1 x 0.8 + 2 x 0.7 + 3 x 0.6 + 1 x 0.5 + 2 x 0.4 + 3 x 0.3 + 1 x 0.2 + 2 x 0.1 + 1 x 0.0 + 2 x 0.1 + 2 x 0.2 + 1 x 0.3 + 2 x 0.4 + 1 x 0.5 + 1 x 0.7 + 1 x 0.8 + 1 x 1.0 + 2 x 1.1 + 1 x 1.3 + 2 x 1.5 + 1 x 1.9 + 1 x 2.4 + 1 x 2.9 + 1 x 3.5 + 1 x 3.9 + "
     ]
    }
   ],
   "source": [
    "for i in range(len(value_list)):\n",
    "    mean_difference = round(abs(value_list[i] - mean), 2)\n",
    "    print(str(frequency_list[i]) + \" x \" + str(mean_difference), end=\" + \")"
   ]
  },
  {
   "cell_type": "code",
   "execution_count": 44,
   "metadata": {},
   "outputs": [
    {
     "data": {
      "text/plain": [
       "51.68800000000001"
      ]
     },
     "execution_count": 44,
     "metadata": {},
     "output_type": "execute_result"
    }
   ],
   "source": [
    "Sum1 = 0\n",
    "for i in range(len(value_list)):\n",
    "    mean_difference = abs(value_list[i] - mean)\n",
    "    Sum1 += frequency_list[i] * mean_difference\n",
    "\n",
    "MD = round(Sum1 / 50, 4)\n",
    "MD"
   ]
  },
  {
   "cell_type": "code",
   "execution_count": 31,
   "metadata": {},
   "outputs": [
    {
     "data": {
      "text/plain": [
       "0.1343"
      ]
     },
     "execution_count": 31,
     "metadata": {},
     "output_type": "execute_result"
    }
   ],
   "source": [
    "cofficient_of_MD = round(MD / mean, 4)\n",
    "cofficient_of_MD"
   ]
  }
 ],
 "metadata": {
  "interpreter": {
   "hash": "b89b5cfaba6639976dc87ff2fec6d58faec662063367e2c229c520fe71072417"
  },
  "kernelspec": {
   "display_name": "Python 3.10.2 64-bit",
   "language": "python",
   "name": "python3"
  },
  "language_info": {
   "codemirror_mode": {
    "name": "ipython",
    "version": 3
   },
   "file_extension": ".py",
   "mimetype": "text/x-python",
   "name": "python",
   "nbconvert_exporter": "python",
   "pygments_lexer": "ipython3",
   "version": "3.10.2"
  },
  "orig_nbformat": 4
 },
 "nbformat": 4,
 "nbformat_minor": 2
}
